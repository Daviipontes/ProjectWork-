{
 "cells": [
  {
   "cell_type": "code",
   "execution_count": 54,
   "id": "initial_id",
   "metadata": {
    "ExecuteTime": {
     "end_time": "2025-07-23T19:33:01.576073Z",
     "start_time": "2025-07-23T19:33:00.766749Z"
    },
    "collapsed": true
   },
   "outputs": [],
   "source": [
    "import numpy as np\n",
    "import scipy.signal as signal\n",
    "from scipy.integrate import solve_ivp\n",
    "import matplotlib.pyplot as plt"
   ]
  },
  {
   "cell_type": "markdown",
   "id": "d796b3f99eca90c3",
   "metadata": {},
   "source": [
    "## Parametros do sistema"
   ]
  },
  {
   "cell_type": "code",
   "execution_count": 55,
   "id": "85f8516cdc94aae0",
   "metadata": {
    "ExecuteTime": {
     "end_time": "2025-07-23T19:33:01.580469Z",
     "start_time": "2025-07-23T19:33:01.578793Z"
    }
   },
   "outputs": [],
   "source": [
    "g = 9.81\n",
    "a1 = 0.02\n",
    "a2 = 0.05\n",
    "A1 = 0.5\n",
    "A2 = 2.0"
   ]
  },
  {
   "cell_type": "markdown",
   "id": "b3bf485b12331ac7",
   "metadata": {},
   "source": [
    "## Caracteristicas do sistema"
   ]
  },
  {
   "cell_type": "code",
   "execution_count": 56,
   "id": "abaa13157ad5e84d",
   "metadata": {
    "ExecuteTime": {
     "end_time": "2025-07-23T19:33:02.111567Z",
     "start_time": "2025-07-23T19:33:02.109529Z"
    }
   },
   "outputs": [],
   "source": [
    "u_bar = 0.5\n",
    "h1_bar = u_bar**2 / (2 * g * a1**2)\n",
    "h2_bar = h2_bar = (a1/a2)**2 * h1_bar\n",
    "x_bar = np.array([h1_bar, h2_bar])"
   ]
  },
  {
   "cell_type": "markdown",
   "id": "b1add5b31b9f3ddc",
   "metadata": {},
   "source": [
    "## Matriz do sistema linearizado"
   ]
  },
  {
   "cell_type": "code",
   "execution_count": 57,
   "id": "f005c3fdda73579b",
   "metadata": {
    "ExecuteTime": {
     "end_time": "2025-07-23T19:33:02.423728Z",
     "start_time": "2025-07-23T19:33:02.420748Z"
    }
   },
   "outputs": [],
   "source": [
    "A_matrix = np.array([[-0.015696, 0], [0.003924, -0.024525]])\n",
    "B_matrix = np.array([[2], [0]])\n",
    "C_matrix = np.array([[0, 1]])\n",
    "D_matrix = np.array([[0]])"
   ]
  },
  {
   "cell_type": "markdown",
   "id": "78cd1ced8ae510d",
   "metadata": {},
   "source": [
    "## Sistema linear criado apartir do espaço de estado"
   ]
  },
  {
   "cell_type": "code",
   "execution_count": 58,
   "id": "d68f824a0ed6a31",
   "metadata": {
    "ExecuteTime": {
     "end_time": "2025-07-23T19:33:02.736463Z",
     "start_time": "2025-07-23T19:33:02.734191Z"
    }
   },
   "outputs": [],
   "source": [
    "linear_system = signal.StateSpace(A_matrix, B_matrix, C_matrix, D_matrix)"
   ]
  },
  {
   "cell_type": "markdown",
   "id": "d41161959c9d6ba2",
   "metadata": {},
   "source": [
    "## Sistema não linear"
   ]
  },
  {
   "cell_type": "code",
   "execution_count": 59,
   "id": "d5d358f876acd95a",
   "metadata": {
    "ExecuteTime": {
     "end_time": "2025-07-23T19:33:03.033169Z",
     "start_time": "2025-07-23T19:33:03.030530Z"
    }
   },
   "outputs": [],
   "source": [
    "def nonlinear_system_ode(t, x):\n",
    "    h1, h2 = x\n",
    "    dh1_dt = (1/A1) * (u_bar - a1 * np.sqrt(2 * g * h1))\n",
    "    dh2_dt = (1/A2) * (a1 * np.sqrt(2 * g * h1) - a2 * np.sqrt(2 * g * h2))\n",
    "    return [dh1_dt, dh2_dt]"
   ]
  },
  {
   "cell_type": "code",
   "execution_count": 60,
   "id": "2b283252d7f4a11f",
   "metadata": {
    "ExecuteTime": {
     "end_time": "2025-07-23T19:33:03.307743Z",
     "start_time": "2025-07-23T19:33:03.305503Z"
    }
   },
   "outputs": [],
   "source": [
    "x0_nonlinear = [0, 0]\n",
    "t_span = [0, 1000]\n",
    "t_eval = np.linspace(t_span[0], t_span[1], 1000)"
   ]
  },
  {
   "cell_type": "markdown",
   "id": "90190bedc80dd703",
   "metadata": {},
   "source": [
    "## Solução do sistema não linear"
   ]
  },
  {
   "cell_type": "code",
   "execution_count": 61,
   "id": "d39804b122c06f8b",
   "metadata": {
    "ExecuteTime": {
     "end_time": "2025-07-23T19:33:04.148193Z",
     "start_time": "2025-07-23T19:33:04.123618Z"
    }
   },
   "outputs": [
    {
     "name": "stderr",
     "output_type": "stream",
     "text": [
      "/tmp/ipykernel_23033/1110291687.py:4: RuntimeWarning: invalid value encountered in sqrt\n",
      "  dh2_dt = (1/A2) * (a1 * np.sqrt(2 * g * h1) - a2 * np.sqrt(2 * g * h2))\n"
     ]
    }
   ],
   "source": [
    "sol_nonlinear = solve_ivp(\n",
    "    fun=nonlinear_system_ode,\n",
    "    t_span=t_span,\n",
    "    y0=x0_nonlinear,\n",
    "    t_eval=t_eval\n",
    ")"
   ]
  },
  {
   "cell_type": "code",
   "execution_count": 62,
   "id": "817c76c64175af77",
   "metadata": {
    "ExecuteTime": {
     "end_time": "2025-07-23T19:33:06.441551Z",
     "start_time": "2025-07-23T19:33:06.439405Z"
    }
   },
   "outputs": [],
   "source": [
    "h2_nonlinear = sol_nonlinear.y[1]"
   ]
  },
  {
   "cell_type": "code",
   "execution_count": 63,
   "id": "c212ff213f6e9754",
   "metadata": {
    "ExecuteTime": {
     "end_time": "2025-07-23T19:33:06.952876Z",
     "start_time": "2025-07-23T19:33:06.950470Z"
    }
   },
   "outputs": [],
   "source": [
    "delta_x0 = x0_nonlinear - x_bar"
   ]
  },
  {
   "cell_type": "code",
   "execution_count": 64,
   "id": "a94dc7c5e8824d6f",
   "metadata": {
    "ExecuteTime": {
     "end_time": "2025-07-23T19:33:07.436944Z",
     "start_time": "2025-07-23T19:33:07.430830Z"
    }
   },
   "outputs": [],
   "source": [
    "t_linear, delta_y, delta_x_out = signal.lsim(\n",
    "    linear_system,\n",
    "    U=np.zeros_like(t_eval),\n",
    "    T=t_eval,\n",
    "    X0=delta_x0\n",
    ")\n"
   ]
  },
  {
   "cell_type": "code",
   "execution_count": 65,
   "id": "6ae7ef5b294daf74",
   "metadata": {
    "ExecuteTime": {
     "end_time": "2025-07-23T19:33:07.916Z",
     "start_time": "2025-07-23T19:33:07.913655Z"
    }
   },
   "outputs": [],
   "source": [
    "h2_linear = h2_bar + delta_y"
   ]
  },
  {
   "cell_type": "code",
   "execution_count": 66,
   "id": "46805b5d19279791",
   "metadata": {
    "ExecuteTime": {
     "end_time": "2025-07-23T19:33:08.654330Z",
     "start_time": "2025-07-23T19:33:08.528906Z"
    }
   },
   "outputs": [
    {
     "data": {
      "image/png": "[encoded data removed]",
      "text/plain": [
       "<Figure size 1400x800 with 1 Axes>"
      ]
     },
     "metadata": {},
     "output_type": "display_data"
    }
   ],
   "source": [
    "plt.figure(figsize=(14, 8))\n",
    "plt.plot(t_eval, h2_nonlinear, label='Não-Linear $h_2(t)$', color='blue')\n",
    "plt.plot(t_linear, h2_linear, label='Linearizado $h_2(t)$', color='red', linestyle='--')\n",
    "plt.title('Comparação do sistem não linear com o sistema linear u=0.5$m^3/$s')\n",
    "plt.xlabel('Tempo (s)')\n",
    "plt.ylabel('Altura (m)')\n",
    "plt.legend()\n",
    "plt.grid(True)\n",
    "plt.show()"
   ]
  },
  {
   "cell_type": "code",
   "execution_count": null,
   "id": "a5630815813142ac",
   "metadata": {},
   "outputs": [],
   "source": []
  }
 ],
 "metadata": {
  "kernelspec": {
   "display_name": "Python 3",
   "language": "python",
   "name": "python3"
  },
  "language_info": {
   "codemirror_mode": {
    "name": "ipython",
    "version": 2
   },
   "file_extension": ".py",
   "mimetype": "text/x-python",
   "name": "python",
   "nbconvert_exporter": "python",
   "pygments_lexer": "ipython2",
   "version": "2.7.6"
  }
 },
 "nbformat": 4,
 "nbformat_minor": 5
}
