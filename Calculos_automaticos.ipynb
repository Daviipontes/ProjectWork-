{
 "cells": [
  {
   "cell_type": "code",
   "execution_count": null,
   "id": "0f7650fe",
   "metadata": {},
   "outputs": [
    {
     "name": "stdout",
     "output_type": "stream",
     "text": [
      "Matrizes A, B, C e D calculadas:\n",
      "A = [[-0.015696  0.      ]\n",
      " [ 0.003924 -0.024525]]\n",
      "B = [[2.]\n",
      " [0.]]\n",
      "C = [[0. 1.]]\n",
      "D = [[0.]]\n",
      "Função de Transferência calculada:\n",
      "<TransferFunction>: sys[9]\n",
      "Inputs (1): ['u[0]']\n",
      "Outputs (1): ['y[0]']\n",
      "\n",
      "           0.007848\n",
      "  ---------------------------\n",
      "  s^2 + 0.04022 s + 0.0003849\n"
     ]
    }
   ],
   "source": [
    "import numpy as np\n",
    "import control as ct\n",
    "import matplotlib.pyplot as plt\n",
    "\n",
    "# Parâmetros do sistema\n",
    "g = 9.81\n",
    "a1, a2 = 0.02, 0.05\n",
    "A1, A2 = 0.5, 2.0\n",
    "u_bar = 0.5\n",
    "\n",
    "# Cálculo do Ponto de Equilíbrio\n",
    "h1_bar = u_bar**2 / (2 * g * a1**2)\n",
    "h2_bar = u_bar**2 / (2 * g * a2**2)\n",
    "\n",
    "# Cálculo das Matrizes Jacobianas (A, B, C, D) \n",
    "a11 = (-a1 / A1) * np.sqrt(g / (2 * h1_bar))\n",
    "a12 = 0.0\n",
    "a21 = (a1 / A2) * np.sqrt(g / (2 * h1_bar))\n",
    "a22 = (-a2 / A2) * np.sqrt(g / (2 * h2_bar))\n",
    "b11 = 1 / A1\n",
    "c12 = 1.0\n",
    "\n",
    "A = np.array([[a11, a12], [a21, a22]])\n",
    "B = np.array([[b11], [0.0]])\n",
    "C = np.array([[0.0, c12]])\n",
    "D = np.array([[0.0]])\n",
    "\n",
    "print(\"Matrizes A, B, C e D calculadas:\")\n",
    "print(\"A =\", A)\n",
    "print(\"B =\", B)\n",
    "print(\"C =\", C)\n",
    "print(\"D =\", D)\n",
    "\n",
    "\n",
    "# Usando a função ss2tf da biblioteca de controle\n",
    "sys_ss = ct.ss(A, B, C, D) \n",
    "sys_tf = ct.ss2tf(sys_ss)   \n",
    "\n",
    "print(\"Função de Transferência calculada:\")\n",
    "print(sys_tf)\n",
    "\n"
   ]
  }
 ],
 "metadata": {
  "kernelspec": {
   "display_name": "Python 3",
   "language": "python",
   "name": "python3"
  },
  "language_info": {
   "codemirror_mode": {
    "name": "ipython",
    "version": 3
   },
   "file_extension": ".py",
   "mimetype": "text/x-python",
   "name": "python",
   "nbconvert_exporter": "python",
   "pygments_lexer": "ipython3",
   "version": "3.13.3"
  }
 },
 "nbformat": 4,
 "nbformat_minor": 5
}
